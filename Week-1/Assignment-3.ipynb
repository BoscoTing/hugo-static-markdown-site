{
 "cells": [
  {
   "cell_type": "code",
   "execution_count": 17,
   "metadata": {},
   "outputs": [],
   "source": [
    "def find_max(numbers):\n",
    "    max_number = 0\n",
    "    for i in range(len(numbers)):\n",
    "        if numbers[i] > max_number:\n",
    "            max_number = numbers[i]\n",
    "    return max_number"
   ]
  },
  {
   "cell_type": "code",
   "execution_count": 41,
   "metadata": {},
   "outputs": [],
   "source": [
    "def find_position(numbers, target):\n",
    "    list_position = []\n",
    "    for i in range(len(numbers)):\n",
    "        if numbers[i] == target:\n",
    "            list_position.append(i)\n",
    "    if not list_position:\n",
    "        list_position.append(-1)\n",
    "    return list_position[0]"
   ]
  }
 ],
 "metadata": {
  "kernelspec": {
   "display_name": "base",
   "language": "python",
   "name": "python3"
  },
  "language_info": {
   "codemirror_mode": {
    "name": "ipython",
    "version": 3
   },
   "file_extension": ".py",
   "mimetype": "text/x-python",
   "name": "python",
   "nbconvert_exporter": "python",
   "pygments_lexer": "ipython3",
   "version": "3.9.12"
  },
  "orig_nbformat": 4
 },
 "nbformat": 4,
 "nbformat_minor": 2
}
